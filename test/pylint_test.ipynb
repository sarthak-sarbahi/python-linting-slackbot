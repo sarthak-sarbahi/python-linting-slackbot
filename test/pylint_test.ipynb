{
 "cells": [
  {
   "cell_type": "code",
   "execution_count": 2,
   "metadata": {},
   "outputs": [
    {
     "name": "stdout",
     "output_type": "stream",
     "text": [
      "Collecting pylint\n",
      "  Downloading pylint-2.17.5-py3-none-any.whl (536 kB)\n",
      "\u001b[K     |████████████████████████████████| 536 kB 11.8 MB/s eta 0:00:01\n",
      "\u001b[?25hRequirement already satisfied: tomli>=1.1.0; python_version < \"3.11\" in /home/infernape/.local/lib/python3.8/site-packages (from pylint) (2.0.0)\n",
      "Collecting mccabe<0.8,>=0.6\n",
      "  Downloading mccabe-0.7.0-py2.py3-none-any.whl (7.3 kB)\n",
      "Collecting isort<6,>=4.2.5\n",
      "  Downloading isort-5.12.0-py3-none-any.whl (91 kB)\n",
      "\u001b[K     |████████████████████████████████| 91 kB 4.1 MB/s eta 0:00:01\n",
      "\u001b[?25hRequirement already satisfied: typing-extensions>=3.10.0; python_version < \"3.10\" in /home/infernape/.local/lib/python3.8/site-packages (from pylint) (4.0.1)\n",
      "Collecting astroid<=2.17.0-dev0,>=2.15.6\n",
      "  Downloading astroid-2.15.6-py3-none-any.whl (278 kB)\n",
      "\u001b[K     |████████████████████████████████| 278 kB 8.4 MB/s eta 0:00:01\n",
      "\u001b[?25hCollecting tomlkit>=0.10.1\n",
      "  Downloading tomlkit-0.12.1-py3-none-any.whl (37 kB)\n",
      "Requirement already satisfied: platformdirs>=2.2.0 in /home/infernape/.local/lib/python3.8/site-packages (from pylint) (2.4.1)\n",
      "Collecting dill>=0.2; python_version < \"3.11\"\n",
      "  Downloading dill-0.3.7-py3-none-any.whl (115 kB)\n",
      "\u001b[K     |████████████████████████████████| 115 kB 9.6 MB/s eta 0:00:01\n",
      "\u001b[?25hCollecting lazy-object-proxy>=1.4.0\n",
      "  Downloading lazy_object_proxy-1.9.0-cp38-cp38-manylinux_2_5_x86_64.manylinux1_x86_64.manylinux_2_17_x86_64.manylinux2014_x86_64.whl (61 kB)\n",
      "\u001b[K     |████████████████████████████████| 61 kB 4.2 MB/s eta 0:00:01\n",
      "\u001b[?25hCollecting wrapt<2,>=1.11; python_version < \"3.11\"\n",
      "  Downloading wrapt-1.15.0-cp38-cp38-manylinux_2_5_x86_64.manylinux1_x86_64.manylinux_2_17_x86_64.manylinux2014_x86_64.whl (81 kB)\n",
      "\u001b[K     |████████████████████████████████| 81 kB 3.8 MB/s eta 0:00:01\n",
      "\u001b[?25hInstalling collected packages: mccabe, isort, lazy-object-proxy, wrapt, astroid, tomlkit, dill, pylint\n",
      "Successfully installed astroid-2.15.6 dill-0.3.7 isort-5.12.0 lazy-object-proxy-1.9.0 mccabe-0.7.0 pylint-2.17.5 tomlkit-0.12.1 wrapt-1.15.0\n"
     ]
    }
   ],
   "source": [
    "!pip3 install pylint"
   ]
  },
  {
   "cell_type": "code",
   "execution_count": 9,
   "metadata": {},
   "outputs": [
    {
     "name": "stdout",
     "output_type": "stream",
     "text": [
      "************* Module dummy_mo.py\n",
      "dummy_mo.py:1:0: F0001: No module named dummy_mo.py (fatal)\n",
      "\n"
     ]
    }
   ],
   "source": [
    "import pylint.lint\n",
    "from pylint.reporters.text import TextReporter\n",
    "from io import StringIO\n",
    "\n",
    "def lint_code(code: str) -> str:\n",
    "    # Redirect the output to a StringIO object\n",
    "    pylint_output = StringIO()\n",
    "\n",
    "    # Lint the code using the given reporter\n",
    "    pylint.lint.Run(['--disable=C,R,W', 'dummy_mo.py'], reporter=TextReporter(pylint_output), do_exit=False)\n",
    "\n",
    "    # Retrieve the report\n",
    "    return pylint_output.getvalue()\n",
    "\n",
    "# Example usage:\n",
    "code_string = \"\"\"\n",
    "def add(x, y):\n",
    "return x + y\n",
    "\"\"\"\n",
    "\n",
    "report = lint_code(code_string)\n",
    "print(report)\n"
   ]
  },
  {
   "cell_type": "code",
   "execution_count": 6,
   "metadata": {},
   "outputs": [],
   "source": [
    "from pylint.lint import Run\n",
    "import sys\n",
    "\n",
    "with open('pylint_output.txt', 'w') as f:\n",
    "    sys.stdout = f\n",
    "    Run([\"test_file.py\", \"--score=n\", \"--msg-template= Line {line} : {msg}\"], do_exit=False)\n",
    "    sys.stdout = sys.__stdout__  # Reset the stdout\n",
    "\n",
    "with open('pylint_output.txt', 'r') as f:\n",
    "    output = f.read()\n",
    "print(output)\n"
   ]
  },
  {
   "cell_type": "code",
   "execution_count": 3,
   "metadata": {},
   "outputs": [
    {
     "name": "stdout",
     "output_type": "stream",
     "text": [
      " Line 4 : Trailing whitespace\n",
      " Line 6 : Final newline missing\n",
      " Line 1 : Missing module docstring\n",
      " Line 30 : Missing function or method docstring\n",
      " Line 35 : Consider merging these comparisons with 'in' by using 'user_id not in (None, BOT_ID)'. Use a set instead if elements are hashable.\n",
      " Line 35 : Comparison 'user_id != None' should be 'user_id is not None'\n",
      " Line 44 : Variable name \"ts\" doesn't conform to snake_case naming style\n",
      " Line 49 : Missing function or method docstring\n",
      " Line 53 : Redefining name 'message_count' from outer scope (line 49)\n",
      " Line 58 : Missing class docstring\n",
      " Line 77 : Missing function or method docstring\n",
      " Line 58 : Too few public methods (1/2)\n",
      " Line 97 : Missing function or method docstring\n",
      " Line 103 : Redefining name 'message' from outer scope (line 30)\n",
      " Line 110 : Missing function or method docstring\n",
      " Line 120 : Redefining name 'message' from outer scope (line 30)\n",
      " Line 125 : Missing function or method docstring\n",
      " Line 125 : Redefining name 'message' from outer scope (line 30)\n",
      " Line 2 : standard import \"import os\" should be placed before \"import slack\"\n",
      " Line 6 : standard import \"import string\" should be placed before \"import slack\"\n",
      "\n"
     ]
    }
   ],
   "source": [
    "from io import StringIO\n",
    "from pylint.lint import Run\n",
    "from pylint.reporters.text import TextReporter\n",
    "\n",
    "def setup_pylint():\n",
    "    pylint_output = StringIO()  # New StringIO object\n",
    "    reporter = TextReporter(pylint_output)\n",
    "    return pylint_output,reporter\n",
    "\n",
    "# pylint_output = StringIO()  # Custom open stream\n",
    "# reporter = TextReporter(pylint_output)\n",
    "# pylint_output.seek(0)\n",
    "# pylint_output.truncate()\n",
    "pylint_output,reporter = setup_pylint()\n",
    "Run([\"test_file.py\",\"--score=n\",\"--msg-template= Line {line} : {msg}\"], reporter=reporter, do_exit=False)\n",
    "output = pylint_output.getvalue().split(\"\\n\")  # Retrieve and print the text report\n",
    "filtered_output = [line for line in output if not line.startswith(\"************* Module\")]\n",
    "print(\"\\n\".join(filtered_output))\n"
   ]
  },
  {
   "cell_type": "code",
   "execution_count": 15,
   "metadata": {},
   "outputs": [
    {
     "name": "stdout",
     "output_type": "stream",
     "text": [
      "test_file.py --score=n --msg-template={line}:{msg}\n",
      "************* Module test_file\n",
      "40:Line too long (140/100)\n",
      "41:Line too long (108/100)\n",
      "44:Line too long (112/100)\n",
      "45:Line too long (105/100)\n",
      "76:Trailing whitespace\n",
      "96:Trailing whitespace\n",
      "101:Trailing whitespace\n",
      "115:Line too long (144/100)\n",
      "133:Trailing newlines\n",
      "1:Missing module docstring\n",
      "30:Missing function or method docstring\n",
      "35:Consider merging these comparisons with 'in' by using 'user_id not in (None, BOT_ID)'. Use a set instead if elements are hashable.\n",
      "35:Comparison 'user_id != None' should be 'user_id is not None'\n",
      "44:Variable name \"ts\" doesn't conform to snake_case naming style\n",
      "49:Missing function or method docstring\n",
      "53:Redefining name 'message_count' from outer scope (line 49)\n",
      "58:Missing class docstring\n",
      "77:Missing function or method docstring\n",
      "58:Too few public methods (1/2)\n",
      "97:Missing function or method docstring\n",
      "103:Redefining name 'message' from outer scope (line 30)\n",
      "110:Missing function or method docstring\n",
      "120:Redefining name 'message' from outer scope (line 30)\n",
      "125:Missing function or method docstring\n",
      "125:Redefining name 'message' from outer scope (line 30)\n",
      "2:standard import \"import os\" should be placed before \"import slack\"\n",
      "6:standard import \"import string\" should be placed before \"import slack\"\n"
     ]
    }
   ],
   "source": [
    "import os\n",
    "cmd = ' '.join([\"test_file.py\",\"--score=n\",\"--msg-template={line}:{msg}\"])\n",
    "print(cmd)\n",
    "aa = os.system(f\"pylint {cmd}\")"
   ]
  },
  {
   "cell_type": "code",
   "execution_count": 20,
   "metadata": {},
   "outputs": [],
   "source": [
    "# import subprocess\n",
    "\n",
    "# # command = \"ls -l\"\n",
    "# result = subprocess.run(cmd)\n",
    "# output = result.stdout"
   ]
  },
  {
   "cell_type": "code",
   "execution_count": 1,
   "metadata": {},
   "outputs": [
    {
     "name": "stdout",
     "output_type": "stream",
     "text": [
      "************* Module test_file\n",
      "Line 40 : Line too long (140/100)\n",
      "Line 41 : Line too long (108/100)\n",
      "Line 44 : Line too long (112/100)\n",
      "Line 45 : Line too long (105/100)\n",
      "Line 76 : Trailing whitespace\n",
      "Line 96 : Trailing whitespace\n",
      "Line 101 : Trailing whitespace\n",
      "Line 115 : Line too long (144/100)\n",
      "Line 1 : Missing module docstring\n",
      "Line 30 : Missing function or method docstring\n",
      "Line 35 : Consider merging these comparisons with 'in' by using 'user_id not in (None, BOT_ID)'. Use a set instead if elements are hashable.\n",
      "Line 35 : Comparison 'user_id != None' should be 'user_id is not None'\n",
      "Line 44 : Variable name \"ts\" doesn't conform to snake_case naming style\n",
      "Line 49 : Missing function or method docstring\n",
      "Line 53 : Redefining name 'message_count' from outer scope (line 49)\n",
      "Line 58 : Missing class docstring\n",
      "Line 77 : Missing function or method docstring\n",
      "Line 58 : Too few public methods (1/2)\n",
      "Line 97 : Missing function or method docstring\n",
      "Line 103 : Redefining name 'message' from outer scope (line 30)\n",
      "Line 110 : Missing function or method docstring\n",
      "Line 120 : Redefining name 'message' from outer scope (line 30)\n",
      "Line 125 : Missing function or method docstring\n",
      "Line 125 : Redefining name 'message' from outer scope (line 30)\n",
      "Line 2 : standard import \"import os\" should be placed before \"import slack\"\n",
      "Line 6 : standard import \"import string\" should be placed before \"import slack\"\n",
      "\n",
      "['Line 40 : Line too long (140/100)', 'Line 41 : Line too long (108/100)', 'Line 44 : Line too long (112/100)', 'Line 45 : Line too long (105/100)', 'Line 76 : Trailing whitespace', 'Line 96 : Trailing whitespace', 'Line 101 : Trailing whitespace', 'Line 115 : Line too long (144/100)', 'Line 1 : Missing module docstring', 'Line 30 : Missing function or method docstring', \"Line 35 : Consider merging these comparisons with 'in' by using 'user_id not in (None, BOT_ID)'. Use a set instead if elements are hashable.\", \"Line 35 : Comparison 'user_id != None' should be 'user_id is not None'\", 'Line 44 : Variable name \"ts\" doesn\\'t conform to snake_case naming style', 'Line 49 : Missing function or method docstring', \"Line 53 : Redefining name 'message_count' from outer scope (line 49)\", 'Line 58 : Missing class docstring', 'Line 77 : Missing function or method docstring', 'Line 58 : Too few public methods (1/2)', 'Line 97 : Missing function or method docstring', \"Line 103 : Redefining name 'message' from outer scope (line 30)\", 'Line 110 : Missing function or method docstring', \"Line 120 : Redefining name 'message' from outer scope (line 30)\", 'Line 125 : Missing function or method docstring', \"Line 125 : Redefining name 'message' from outer scope (line 30)\", 'Line 2 : standard import \"import os\" should be placed before \"import slack\"', 'Line 6 : standard import \"import string\" should be placed before \"import slack\"', '']\n"
     ]
    }
   ],
   "source": [
    "import subprocess\n",
    "\n",
    "# Split the command into a list of arguments\n",
    "command = [\"python3\",\"-m\",\"pylint\",\"test_file.py\",\"--score=n\",\"--msg-template=Line {line} : {msg}\"]\n",
    "\n",
    "# Run the command and capture the output\n",
    "result = subprocess.run(command, stdout=subprocess.PIPE, text=True)\n",
    "\n",
    "# Extract the output as a string\n",
    "output = result.stdout\n",
    "\n",
    "print(output)\n",
    "\n",
    "# print(output.split(\"\\n\"))\n",
    "filtered_output = [line for line in output.split(\"\\n\") if not line.startswith(\"************* Module\")]\n",
    "# exlcude_space = [line for line in filtered_output if line != '']\n",
    "# print(\"\\n\".join(filtered_output))\n",
    "# print(\"\\n\".join(filtered_output))\n",
    "print(filtered_output)\n",
    "# print(exlcude_space)\n",
    "# print(\"Line \" + \"\\nLine \".join(exlcude_space))"
   ]
  },
  {
   "cell_type": "code",
   "execution_count": 46,
   "metadata": {},
   "outputs": [
    {
     "name": "stdout",
     "output_type": "stream",
     "text": [
      "Line 4:Trailing whitespace\n",
      "Line 6:Final newline missing\n",
      "Line 1:Missing module docstring\n",
      "Line 1:Constant name \"aa\" doesn't conform to UPPER_CASE naming style\n",
      "Line 2:Constant name \"bb\" doesn't conform to UPPER_CASE naming style\n",
      "Line 3:Missing class docstring\n",
      "Line 3:Too few public methods (0/2)\n"
     ]
    }
   ],
   "source": [
    "print(\"Line \" + \"\\nLine \".join(exlcude_space))"
   ]
  },
  {
   "cell_type": "code",
   "execution_count": 29,
   "metadata": {},
   "outputs": [],
   "source": [
    "code_string = \"\"\"\n",
    "def add(x, y):\n",
    "    return x + y\n",
    "\"\"\"\n",
    "\n",
    "with open(\"test_file.py\", \"w\") as file:\n",
    "    file.write(code_string)"
   ]
  },
  {
   "cell_type": "code",
   "execution_count": 6,
   "metadata": {},
   "outputs": [
    {
     "name": "stdout",
     "output_type": "stream",
     "text": [
      "['lint', 'lint', 'this', 'code\\ndef', 'add(x,', 'y):\\n', '', '', '', 'return', 'x', '+', 'y\\nmore', 'text', 'outside']\n",
      "yes\n"
     ]
    }
   ],
   "source": [
    "import re\n",
    "\n",
    "text = \"\"\"\n",
    "lint lint this code\n",
    "def add(x, y):\n",
    "    return x + y\n",
    "more text outside\n",
    "\"\"\"\n",
    "\n",
    "# Split the text using triple backticks as the delimiter\n",
    "parts = re.split(r'```.*?```', text, flags=re.DOTALL)\n",
    "\n",
    "# The result will be the text outside the triple backticks\n",
    "outside_text = ''.join(parts).strip()\n",
    "\n",
    "print(outside_text.split(\" \"))\n",
    "\n",
    "USER_KEYWORDS = ['lint','analyse','analyze','recommendations','refactor','python','code']\n",
    "for word in outside_text.split(\" \"):\n",
    "    if word in USER_KEYWORDS:\n",
    "        print('yes')\n",
    "        break"
   ]
  },
  {
   "cell_type": "code",
   "execution_count": 8,
   "metadata": {},
   "outputs": [
    {
     "name": "stdout",
     "output_type": "stream",
     "text": [
      "yes\n"
     ]
    }
   ],
   "source": [
    "text = \"\"\"\n",
    "lint lint this code\n",
    "```def add(x, y):\n",
    "    return x + y```\n",
    "more text outside\n",
    "\"\"\"\n",
    "if '```' in text:\n",
    "    print('yes')"
   ]
  },
  {
   "cell_type": "code",
   "execution_count": 16,
   "metadata": {},
   "outputs": [
    {
     "name": "stdout",
     "output_type": "stream",
     "text": [
      "```lint_file.py : 2 : 0 : Final newline missing\n",
      "lint_file.py : 1 : 0 : Missing module docstring\n",
      "lint_file.py : 1 : 0 : Missing function or method docstring\n",
      "lint_file.py : 1 : 8 : Argument name \"x\" doesn't conform to snake_case naming style\n",
      "lint_file.py : 1 : 11 : Argument name \"y\" doesn't conform to snake_case naming style\n",
      "```\n"
     ]
    }
   ],
   "source": [
    "ll = [\"lint_file.py : 2 : 0 : Final newline missing\",\"lint_file.py : 1 : 0 : Missing module docstring\",\"lint_file.py : 1 : 0 : Missing function or method docstring\",\"lint_file.py : 1 : 8 : Argument name \\\"x\\\" doesn't conform to snake_case naming style\",\"lint_file.py : 1 : 11 : Argument name \\\"y\\\" doesn't conform to snake_case naming style\",\"\"]\n",
    "print('```' + '\\n'.join(ll) + '```')"
   ]
  },
  {
   "cell_type": "code",
   "execution_count": null,
   "metadata": {},
   "outputs": [],
   "source": [
    "aa = 10\n",
    "bb = True\n",
    "class Myclass:\n",
    "    \n",
    "    def __init__(self):\n",
    "        pass"
   ]
  },
  {
   "cell_type": "code",
   "execution_count": 6,
   "metadata": {},
   "outputs": [],
   "source": [
    "text = '```Line 1 : No module named lint_file.py\\n```'\n",
    "if 'lint_file' not in text:\n",
    "    print('yes')"
   ]
  }
 ],
 "metadata": {
  "kernelspec": {
   "display_name": "Python 3 (ipykernel)",
   "language": "python",
   "name": "python3"
  },
  "language_info": {
   "codemirror_mode": {
    "name": "ipython",
    "version": 3
   },
   "file_extension": ".py",
   "mimetype": "text/x-python",
   "name": "python",
   "nbconvert_exporter": "python",
   "pygments_lexer": "ipython3",
   "version": "3.8.5"
  }
 },
 "nbformat": 4,
 "nbformat_minor": 2
}
